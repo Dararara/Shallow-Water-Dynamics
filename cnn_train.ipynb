{
 "cells": [
  {
   "cell_type": "code",
   "execution_count": 2,
   "metadata": {},
   "outputs": [
    {
     "name": "stderr",
     "output_type": "stream",
     "text": [
      "Using TensorFlow backend.\n"
     ]
    }
   ],
   "source": [
    "from keras.models import Model, load_model\n",
    "from keras.models import Sequential, Input\n",
    "from keras.layers import Dense, Conv2D, Flatten,Concatenate, MaxPooling2D, Dropout, Conv2DTranspose\n",
    "from keras import callbacks\n",
    "import scipy.io as sco\n",
    "from os import listdir\n",
    "import re\n",
    "import numpy as np\n",
    "import tensorflow as tf\n",
    "from keras import regularizers"
   ]
  },
  {
   "cell_type": "markdown",
   "metadata": {},
   "source": [
    "here is the part that will read all the test data generated from matlab and concatenate them together"
   ]
  },
  {
   "cell_type": "code",
   "execution_count": 2,
   "metadata": {},
   "outputs": [],
   "source": [
    "l = listdir()\n",
    "for file in l:\n",
    "    #search for all the files that we need\n",
    "    if(bool(re.match('cnn_test.*?mat', file))):\n",
    "        x = sco.loadmat(file)\n",
    "        tin = np.array(x['datai'])\n",
    "        tout = np.array(x['datao'])\n",
    "        #print(tin.shape, tout.shape)\n",
    "        #concatenate or initialize the finial input and output data\n",
    "        try:\n",
    "            din = np.concatenate((din, tin), 0)\n",
    "            dout = np.concatenate((dout, tout),0)\n",
    "        except:\n",
    "            din = tin\n",
    "            dout = tout"
   ]
  },
  {
   "cell_type": "code",
   "execution_count": 3,
   "metadata": {},
   "outputs": [],
   "source": [
    "#use random permutation to randomize the data, so that we may get a better result.\n",
    "ran = np.random.permutation(din.shape[0])\n",
    "din = din[ran]\n",
    "dout = dout[ran]"
   ]
  },
  {
   "cell_type": "markdown",
   "metadata": {},
   "source": [
    "save the data into npy form here, next time we only need to load npy file."
   ]
  },
  {
   "cell_type": "code",
   "execution_count": null,
   "metadata": {},
   "outputs": [],
   "source": [
    "np.save('din.npy', din)\n",
    "np.save('dout.npy', dout)\n",
    "#np.save('test_din.npy', test_din)\n",
    "#np.save('test_dout.npy', test_dout)\n"
   ]
  },
  {
   "cell_type": "markdown",
   "metadata": {},
   "source": [
    "load the data we saved"
   ]
  },
  {
   "cell_type": "code",
   "execution_count": 3,
   "metadata": {},
   "outputs": [],
   "source": [
    "din = np.load('din.npy')\n",
    "dout = np.load('dout.npy')\n",
    "#test_din = np.load('test_din.npy')\n",
    "#test_dout = np.load('test_din.npy')din = np.load('din.npy')"
   ]
  },
  {
   "cell_type": "code",
   "execution_count": null,
   "metadata": {},
   "outputs": [
    {
     "name": "stdout",
     "output_type": "stream",
     "text": [
      "Epoch 1/20\n",
      "241211/241211 [==============================] - 362s 2ms/step - loss: 0.0069 - mean_squared_error: 0.0069 - mean_absolute_error: 0.0249\n",
      "Epoch 2/20\n",
      " 90000/241211 [==========>...................] - ETA: 3:39 - loss: 5.0656e-04 - mean_squared_error: 5.0656e-04 - mean_absolute_error: 0.0149"
     ]
    }
   ],
   "source": [
    "# simple cnn with only one convolution layer and one dense layer\n",
    "mycall = callbacks.EarlyStopping(patience=3, monitor='loss', mode = 'min', min_delta=0.0001)\n",
    "model = Sequential()\n",
    "model.add(Conv2D(filters = 16, kernel_size = (3,3), activation = 'tanh'))\n",
    "model.add(Flatten())\n",
    "model.add(Dense(961, activation = 'linear'))\n",
    "model.compile(optimizer='Adam', loss='mse', metrics=[ 'mse', 'mae'])\n",
    "model.fit(batch_size=100, epochs=20, callbacks=[mycall], x=din.reshape(din.shape[0], 31, 31, 1), y = dout.reshape(dout.shape[0], 961))\n",
    "model.save('cnn_16_5_5.h5')\n"
   ]
  },
  {
   "cell_type": "code",
   "execution_count": null,
   "metadata": {},
   "outputs": [],
   "source": [
    "# simple cnn with only one convolution layer and one dense layer\n",
    "mycall = callbacks.EarlyStopping(patience=3, monitor='loss', mode = 'min', min_delta=0.0001)\n",
    "model = Sequential()\n",
    "model.add(Conv2D(filters = 32, kernel_size = (3,3), activation = 'tanh'))\n",
    "model.add(Flatten())\n",
    "model.add(Dense(961, activation = 'linear'))\n",
    "model.compile(optimizer='Adam', loss='mse', metrics=[ 'mse', 'mae'])\n",
    "model.fit(batch_size=100, epochs=20, callbacks=[mycall], x=din.reshape(din.shape[0], 31, 31, 1), y = dout.reshape(dout.shape[0], 961))\n",
    "model.save('cnn_32_5_5.h5')\n"
   ]
  },
  {
   "cell_type": "code",
   "execution_count": null,
   "metadata": {},
   "outputs": [],
   "source": [
    "# simple cnn with only one convolution layer and one dense layer\n",
    "mycall = callbacks.EarlyStopping(patience=3, monitor='loss', mode = 'min', min_delta=0.0001)\n",
    "model = Sequential()\n",
    "model.add(Conv2D(filters = 64, kernel_size = (3,3), activation = 'tanh'))\n",
    "model.add(Flatten())\n",
    "model.add(Dense(961, activation = 'linear'))\n",
    "model.compile(optimizer='Adam', loss='mse', metrics=[ 'mse', 'mae'])\n",
    "model.fit(batch_size=100, epochs=20, callbacks=[mycall], x=din.reshape(din.shape[0], 31, 31, 1), y = dout.reshape(dout.shape[0], 961))\n",
    "model.save('cnn_64_5_5.h5')\n"
   ]
  },
  {
   "cell_type": "code",
   "execution_count": null,
   "metadata": {},
   "outputs": [],
   "source": [
    "# simple cnn with only one convolution layer and one dense layer\n",
    "mycall = callbacks.EarlyStopping(patience=3, monitor='loss', mode = 'min', min_delta=0.0001)\n",
    "model = Sequential()\n",
    "model.add(Conv2D(filters = 128, kernel_size = (3,3), activation = 'tanh'))\n",
    "model.add(Flatten())\n",
    "model.add(Dense(961, activation = 'linear'))\n",
    "model.compile(optimizer='Adam', loss='mse', metrics=[ 'mse', 'mae'])\n",
    "model.fit(batch_size=100, epochs=20, callbacks=[mycall], x=din.reshape(din.shape[0], 31, 31, 1), y = dout.reshape(dout.shape[0], 961))\n",
    "model.save('cnn_128_5_5.h5')\n"
   ]
  },
  {
   "cell_type": "code",
   "execution_count": null,
   "metadata": {},
   "outputs": [],
   "source": [
    "# simple cnn with only one convolution layer and one dense layer\n",
    "mycall = callbacks.EarlyStopping(patience=3, monitor='loss', mode = 'min', min_delta=0.0001)\n",
    "model = Sequential()\n",
    "model.add(Conv2D(filters = 256, kernel_size = (3,3), activation = 'tanh'))\n",
    "model.add(Flatten())\n",
    "model.add(Dense(961, activation = 'linear'))\n",
    "model.compile(optimizer='Adam', loss='mse', metrics=[ 'mse', 'mae'])\n",
    "model.fit(batch_size=100, epochs=20, callbacks=[mycall], x=din.reshape(din.shape[0], 31, 31, 1), y = dout.reshape(dout.shape[0], 961))\n",
    "model.save('cnn_256_5_5.h5')\n"
   ]
  },
  {
   "cell_type": "code",
   "execution_count": null,
   "metadata": {},
   "outputs": [],
   "source": [
    "#add L1 for better performance on test data\n",
    "mycall = callbacks.EarlyStopping(patience=3, monitor='loss', mode = 'min', min_delta=0.0001)\n",
    "model = Sequential()\n",
    "model.add(Conv2D(filters = 32, kernel_size = (5,5), activation = 'relu',\n",
    "                 kernel_regularizer = regularizers.l1(0.01), bias_regularizer = regularizers.l1(0.01)))\n",
    "model.add(Flatten())\n",
    "model.add(Dense(961, activation = 'linear', kernel_regularizer = regularizers.l1(0.01), bias_regularizer = regularizers.l1(0.01))) \n",
    "model.compile(optimizer='Adam', loss='mse', metrics=[ 'mse', 'mae'])\n",
    "model.fit(batch_size=100, epochs=20, callbacks=[mycall], x=din.reshape(din.shape[0], 31, 31, 1), y = dout.reshape(dout.shape[0], 961))\n",
    "model.save('cnn_32_5_5_L1.h5')"
   ]
  },
  {
   "cell_type": "code",
   "execution_count": null,
   "metadata": {},
   "outputs": [],
   "source": [
    "#add L1+L2 based on simple cnn\n",
    "mycall = callbacks.EarlyStopping(patience=3, monitor='loss', mode = 'min', min_delta=0.0001)\n",
    "model = Sequential()\n",
    "model.add(Conv2D(filters = 32, kernel_size = (5,5), activation = 'relu',\n",
    "                 kernel_regularizer = regularizers.l1_l2(0.01), bias_regularizer = regularizers.l1_l2(0.01)))\n",
    "model.add(Flatten())\n",
    "model.add(Dense(961, activation = 'linear', kernel_regularizer = regularizers.l1_l2(0.01), bias_regularizer = regularizers.l1_l2(0.01))) \n",
    "model.compile(optimizer='Adam', loss='mse', metrics=[ 'mse', 'mae'])\n",
    "model.fit(batch_size=100, epochs=20, callbacks=[mycall], x=din.reshape(din.shape[0], 31, 31, 1), y = dout.reshape(dout.shape[0], 961))\n",
    "model.save('cnn_32_5_5_L1_L2.h5')"
   ]
  },
  {
   "cell_type": "code",
   "execution_count": null,
   "metadata": {},
   "outputs": [],
   "source": [
    "#add L1 + --+dropout based on simple cnn\n",
    "mycall = callbacks.EarlyStopping(patience=3, monitor='loss', mode = 'min', min_delta=0.0001)\n",
    "model = Sequential()\n",
    "model.add(Conv2D(filters = 32, kernel_size = (5,5), activation = 'relu',\n",
    "                 kernel_regularizer = regularizers.l2(0.01), bias_regularizer = regularizers.l2(0.01)))\n",
    "model.add(Dropout(rate = 0.1))\n",
    "model.add(Flatten())\n",
    "model.add(Dense(961, activation = 'linear', kernel_regularizer = regularizers.l2(0.01), bias_regularizer = regularizers.l2(0.01))) \n",
    "model.compile(optimizer='Adam', loss='mse', metrics=[ 'mse', 'mae'])\n",
    "model.fit(batch_size=100, epochs=20, callbacks=[mycall], x=din.reshape(din.shape[0], 31, 31, 1), y = dout.reshape(dout.shape[0], 961))\n",
    "model.save('cnn_32_5_5_L1_dropout.h5')"
   ]
  },
  {
   "cell_type": "markdown",
   "metadata": {},
   "source": [
    "evalute all the cnn models"
   ]
  },
  {
   "cell_type": "code",
   "execution_count": 5,
   "metadata": {},
   "outputs": [
    {
     "name": "stdout",
     "output_type": "stream",
     "text": [
      "cnn_32_5_5_L1.h5\n",
      "3000/3000 [==============================] - 5s 2ms/step\n",
      "25.54888091023763 0.2278579704761505\n",
      "cnn_32_5_5.h5\n",
      "3000/3000 [==============================] - 3s 990us/step\n",
      "9.24805841447475e-05 0.006535718282063802\n",
      "cnn_32_5_5_L1_L2.h5\n",
      "3000/3000 [==============================] - 8s 3ms/step\n",
      "28.653518712361652 0.22774486915270487\n",
      "cnn_32_5_5_L1_dropout.h5\n",
      "3000/3000 [==============================] - 5s 2ms/step\n",
      "0.15620815233389537 0.16105180470148722\n"
     ]
    }
   ],
   "source": [
    "l = listdir()\n",
    "for file in l:\n",
    "    if(bool(re.match('cnn.*?.h5', file))):\n",
    "        print(file)\n",
    "        #print(int(file[3:-3]))\n",
    "        model = load_model(file)\n",
    "        mse,temp, mae = model.evaluate(x = din.reshape(-1,31,31,1), y = dout.reshape(-1, 961))\n",
    "        print(mse, mae)\n",
    "        "
   ]
  },
  {
   "cell_type": "markdown",
   "metadata": {},
   "source": [
    "load the model and generate the data for plot and do comparision"
   ]
  },
  {
   "cell_type": "code",
   "execution_count": 6,
   "metadata": {},
   "outputs": [
    {
     "name": "stdout",
     "output_type": "stream",
     "text": [
      "(10, 31, 31) (10, 31, 31)\n"
     ]
    }
   ],
   "source": [
    "model = load_model('cnn_32_5_5.h5')\n",
    "r = np.random.randint(high = din.shape[0], low = 0, size= 10)#here we choose 10 samples from dataset\n",
    "pout = model.predict(x = din[r].reshape(10, 31, 31, 1))\n",
    "pout = pout.reshape(10, 31,31)\n",
    "print(dout[r].shape, pout.shape)\n",
    "np.save('pred_out.npy', pout)\n",
    "np.save('true_out.npy', dout[r])"
   ]
  },
  {
   "cell_type": "code",
   "execution_count": null,
   "metadata": {},
   "outputs": [],
   "source": []
  }
 ],
 "metadata": {
  "kernelspec": {
   "display_name": "Python 3",
   "language": "python",
   "name": "python3"
  },
  "language_info": {
   "codemirror_mode": {
    "name": "ipython",
    "version": 3
   },
   "file_extension": ".py",
   "mimetype": "text/x-python",
   "name": "python",
   "nbconvert_exporter": "python",
   "pygments_lexer": "ipython3",
   "version": "3.6.8"
  }
 },
 "nbformat": 4,
 "nbformat_minor": 2
}
